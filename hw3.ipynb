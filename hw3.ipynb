{
 "cells": [
  {
   "cell_type": "code",
   "execution_count": 2,
   "id": "9f02e484-283e-43a3-aa18-d6df49a8ea60",
   "metadata": {},
   "outputs": [],
   "source": [
    "import numpy as np"
   ]
  },
  {
   "cell_type": "code",
   "execution_count": 3,
   "id": "0fc52c29-6b88-4d43-96a0-e4f021417e49",
   "metadata": {},
   "outputs": [],
   "source": [
    "hairstyles = [\"bouffant\", \"pixie\", \"dreadlocks\", \"crew\", \"bowl\", \"bob\", \"mohawk\", \"flattop\"]"
   ]
  },
  {
   "cell_type": "code",
   "execution_count": 4,
   "id": "800647d0-a2b9-4696-aca8-028493aa5451",
   "metadata": {},
   "outputs": [],
   "source": [
    "prices = [30, 25, 40, 20, 20, 35, 50, 35]"
   ]
  },
  {
   "cell_type": "code",
   "execution_count": 5,
   "id": "60962290-989b-40e8-9912-c0af03f39bba",
   "metadata": {},
   "outputs": [],
   "source": [
    "last_week = [2, 3, 5, 8, 4, 4, 6, 2]"
   ]
  },
  {
   "cell_type": "code",
   "execution_count": 6,
   "id": "28999f37-6213-43f9-b5a4-b56894ac2ca5",
   "metadata": {},
   "outputs": [],
   "source": [
    "total_price = 0\n",
    "total_price = sum(prices)"
   ]
  },
  {
   "cell_type": "code",
   "execution_count": 7,
   "id": "55089255-123a-44e7-bb2a-f5e47eee8f9a",
   "metadata": {},
   "outputs": [],
   "source": [
    "average_price = 0\n",
    "average_price = total_price/len(prices)"
   ]
  },
  {
   "cell_type": "code",
   "execution_count": 8,
   "id": "bc96c280-ea0f-41c5-b0ad-8a2f603fb149",
   "metadata": {},
   "outputs": [
    {
     "name": "stdout",
     "output_type": "stream",
     "text": [
      "255\n",
      "31.875\n"
     ]
    }
   ],
   "source": [
    "print(total_price)\n",
    "print(average_price)"
   ]
  },
  {
   "cell_type": "code",
   "execution_count": 10,
   "id": "8fa85bc1-4dad-43b1-beed-2d6238401b43",
   "metadata": {},
   "outputs": [
    {
     "name": "stdout",
     "output_type": "stream",
     "text": [
      "average_price is 31.875\n"
     ]
    }
   ],
   "source": [
    "average_price = total_price/len(prices)\n",
    "print('average_price is',average_price)"
   ]
  },
  {
   "cell_type": "code",
   "execution_count": 20,
   "id": "b6ebf672-5e8b-4c6f-a70c-ce94f8d8da0c",
   "metadata": {},
   "outputs": [],
   "source": [
    "new_price = prices\n",
    "new_price = [prices-5 for prices in new_price]"
   ]
  },
  {
   "cell_type": "code",
   "execution_count": 21,
   "id": "5f442db8-344e-41de-8a33-abc87d6cbdd8",
   "metadata": {},
   "outputs": [
    {
     "name": "stdout",
     "output_type": "stream",
     "text": [
      "[25, 20, 35, 15, 15, 30, 45, 30]\n"
     ]
    }
   ],
   "source": [
    "print(new_price)"
   ]
  },
  {
   "cell_type": "code",
   "execution_count": 15,
   "id": "01a803ba-7a4a-4d34-bc7f-63e22710e784",
   "metadata": {},
   "outputs": [],
   "source": [
    "total_revenue = 0\n",
    "total_revenue = [prices[i]*last_week[i]for i in range(len(hairstyles))]"
   ]
  },
  {
   "cell_type": "code",
   "execution_count": 17,
   "id": "62585b01-3512-4798-ba27-9a833149d20d",
   "metadata": {},
   "outputs": [
    {
     "name": "stdout",
     "output_type": "stream",
     "text": [
      "[60, 75, 200, 160, 80, 140, 300, 70]\n"
     ]
    }
   ],
   "source": [
    "print(total_revenue)"
   ]
  },
  {
   "cell_type": "code",
   "execution_count": 25,
   "id": "29398bc7-805f-488a-b9b3-2fca10a9fb17",
   "metadata": {},
   "outputs": [],
   "source": [
    "average_daily_revenue=sum(total_revenue)/7"
   ]
  },
  {
   "cell_type": "code",
   "execution_count": 27,
   "id": "3c44bf52-a37c-42be-a03f-bc455c87d46d",
   "metadata": {},
   "outputs": [
    {
     "name": "stdout",
     "output_type": "stream",
     "text": [
      "155.0\n"
     ]
    }
   ],
   "source": [
    "print(average_daily_revenue)"
   ]
  },
  {
   "cell_type": "code",
   "execution_count": 29,
   "id": "1442853d-1bee-492e-8398-cfe1ab698056",
   "metadata": {},
   "outputs": [
    {
     "name": "stdout",
     "output_type": "stream",
     "text": [
      "Average daily revenue is 155.0\n"
     ]
    }
   ],
   "source": [
    "print('Average daily revenue is',average_daily_revenue)"
   ]
  },
  {
   "cell_type": "code",
   "execution_count": 31,
   "id": "f0c1428c-f764-4f10-b193-e835efddbd39",
   "metadata": {},
   "outputs": [
    {
     "name": "stdout",
     "output_type": "stream",
     "text": [
      "['bouffant', 'pixie', 'crew', 'bowl']\n"
     ]
    }
   ],
   "source": [
    "cuts_under_30 = [hairstyles[i] for i in range(len(new_price)-1) if new_price[i] < 30]\n",
    "print(cuts_under_30)"
   ]
  }
 ],
 "metadata": {
  "kernelspec": {
   "display_name": "Python 3 (ipykernel)",
   "language": "python",
   "name": "python3"
  },
  "language_info": {
   "codemirror_mode": {
    "name": "ipython",
    "version": 3
   },
   "file_extension": ".py",
   "mimetype": "text/x-python",
   "name": "python",
   "nbconvert_exporter": "python",
   "pygments_lexer": "ipython3",
   "version": "3.9.12"
  }
 },
 "nbformat": 4,
 "nbformat_minor": 5
}
