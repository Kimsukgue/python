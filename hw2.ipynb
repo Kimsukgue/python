{
 "cells": [
  {
   "cell_type": "code",
   "execution_count": 153,
   "id": "4a2fa255-4c72-4f8e-9070-dff59c324acd",
   "metadata": {},
   "outputs": [
    {
     "name": "stdout",
     "output_type": "stream",
     "text": [
      "['physics', 'calculus', 'poetry', 'history']\n"
     ]
    }
   ],
   "source": [
    "subjects=['physics','calculus','poetry','history']\n",
    "print(subjects)"
   ]
  },
  {
   "cell_type": "code",
   "execution_count": 154,
   "id": "57bee686-ed94-4f38-8269-bb2fe0128002",
   "metadata": {},
   "outputs": [
    {
     "name": "stdout",
     "output_type": "stream",
     "text": [
      "[98, 98, 85, 88]\n"
     ]
    }
   ],
   "source": [
    "grades=[98,98,85,88]\n",
    "print(grades)"
   ]
  },
  {
   "cell_type": "code",
   "execution_count": 155,
   "id": "2f537862-7c94-4b08-970d-345707bbefaa",
   "metadata": {},
   "outputs": [
    {
     "name": "stdout",
     "output_type": "stream",
     "text": [
      "[('physics', 98), ('calculus', 98), ('poetry', 85), ('history', 88)]\n"
     ]
    }
   ],
   "source": [
    "gradebook=list(zip(subjects,grades))\n",
    "print(gradebook) "
   ]
  },
  {
   "cell_type": "code",
   "execution_count": 156,
   "id": "27472a0c-2fb1-433f-90b6-a461b20c59cf",
   "metadata": {},
   "outputs": [
    {
     "name": "stdout",
     "output_type": "stream",
     "text": [
      "[('physics', 98), ('calculus', 98), ('poetry', 85), ('history', 88), 'computer science', 100]\n"
     ]
    }
   ],
   "source": [
    "gradebook.append(\"computer science\")\n",
    "gradebook.append(100)\n",
    "print(gradebook)"
   ]
  },
  {
   "cell_type": "code",
   "execution_count": 157,
   "id": "286b3183-23f8-46cc-87a0-98e23f91add8",
   "metadata": {},
   "outputs": [
    {
     "name": "stdout",
     "output_type": "stream",
     "text": [
      "[('physics', 98), ('calculus', 98), ('poetry', 85), ('history', 88), 'computer science', 100, 'visual arts', 93]\n"
     ]
    }
   ],
   "source": [
    "gradebook.append(\"visual arts\")\n",
    "gradebook.append(93)\n",
    "print(gradebook)\n"
   ]
  },
  {
   "cell_type": "code",
   "execution_count": 158,
   "id": "8651c455-ee51-476c-9c82-742ca6653f8d",
   "metadata": {},
   "outputs": [
    {
     "name": "stdout",
     "output_type": "stream",
     "text": [
      "[('physics', 98), ('calculus', 98), ('poetry', 85), ('history', 88), 'computer science', 100, 'visual arts', 98]\n"
     ]
    }
   ],
   "source": [
    "gradebook[7]=gradebook[7]+5\n",
    "print(gradebook)"
   ]
  },
  {
   "cell_type": "code",
   "execution_count": 159,
   "id": "dc5d5bee-fd6e-46bb-83dd-96dfc3a702db",
   "metadata": {},
   "outputs": [
    {
     "name": "stdout",
     "output_type": "stream",
     "text": [
      "[98, 98, 88]\n"
     ]
    }
   ],
   "source": [
    "grades.remove(85)\n",
    "print(grades)\n",
    "#print(gradebook[2][1])"
   ]
  },
  {
   "cell_type": "code",
   "execution_count": 160,
   "id": "35e7834d-6d9c-4cc9-bb7b-edbf036db7a5",
   "metadata": {},
   "outputs": [
    {
     "name": "stdout",
     "output_type": "stream",
     "text": [
      "[('physics', 98), ('calculus', 98), '(poetry, pass)', ('history', 88), 'computer science', 100, 'visual arts', 98]\n"
     ]
    }
   ],
   "source": [
    "gradebook[2]=\"(poetry, pass)\"#인덱스에 있는 값을 변경하면 에러가 자꾸 발생해서 강제적으로 값을 넣었습니다...\n",
    "print(gradebook)"
   ]
  },
  {
   "cell_type": "code",
   "execution_count": 161,
   "id": "5d2a049e-92ef-41b7-90e9-d93ece39e00c",
   "metadata": {},
   "outputs": [
    {
     "name": "stdout",
     "output_type": "stream",
     "text": [
      "[['politics', 80], ['latin', 96], ['dance', 97], ['architecture', 65]]\n"
     ]
    }
   ],
   "source": [
    "last_semester_gradebook = [[\"politics\", 80], [\"latin\", 96], [\"dance\", 97], [\"architecture\", 65]]\n",
    "print(last_semester_gradebook)"
   ]
  },
  {
   "cell_type": "code",
   "execution_count": 162,
   "id": "c42a0634-375e-4326-a180-9aecb807b836",
   "metadata": {},
   "outputs": [
    {
     "name": "stdout",
     "output_type": "stream",
     "text": [
      "[('physics', 98), ('calculus', 98), '(poetry, pass)', ('history', 88), 'computer science', 100, 'visual arts', 98, ['politics', 80], ['latin', 96], ['dance', 97], ['architecture', 65]]\n"
     ]
    }
   ],
   "source": [
    "pull_gradebook=gradebook+last_semester_gradebook\n",
    "print(pull_gradebook)"
   ]
  }
 ],
 "metadata": {
  "kernelspec": {
   "display_name": "Python 3 (ipykernel)",
   "language": "python",
   "name": "python3"
  },
  "language_info": {
   "codemirror_mode": {
    "name": "ipython",
    "version": 3
   },
   "file_extension": ".py",
   "mimetype": "text/x-python",
   "name": "python",
   "nbconvert_exporter": "python",
   "pygments_lexer": "ipython3",
   "version": "3.9.12"
  }
 },
 "nbformat": 4,
 "nbformat_minor": 5
}
