{
 "cells": [
  {
   "cell_type": "code",
   "execution_count": 1,
   "id": "02c2aa44-9dd5-4822-94ad-f7bb90439b38",
   "metadata": {},
   "outputs": [
    {
     "name": "stdout",
     "output_type": "stream",
     "text": [
      "Lovely Loveseat. Tufted polyester blend on wood. 32 inches high x 40 inches wide x 30 inches deep. Red or white.\n"
     ]
    }
   ],
   "source": [
    "lovely_loveseat_description='Lovely Loveseat. Tufted polyester blend on wood. 32 inches high x 40 inches wide x 30 inches deep. Red or white.'\n",
    "print(lovely_loveseat_description)"
   ]
  },
  {
   "cell_type": "code",
   "execution_count": 22,
   "id": "a1feb424-80d1-4ff6-8a7f-f3a09bf95a77",
   "metadata": {},
   "outputs": [],
   "source": [
    "lovely_loveseat_price=254.00"
   ]
  },
  {
   "cell_type": "code",
   "execution_count": 23,
   "id": "3158be6a-2ed2-45ac-a14a-5d29112b24c9",
   "metadata": {},
   "outputs": [
    {
     "name": "stdout",
     "output_type": "stream",
     "text": [
      "Stylish Settee. Faux leather on birch. 29.50 inches high x 54.75 inches wide x 28 inches deep. Black.\n"
     ]
    }
   ],
   "source": [
    "stylish_settee_description='Stylish Settee. Faux leather on birch. 29.50 inches high x 54.75 inches wide x 28 inches deep. Black.' \n",
    "print(stylish_settee_description)"
   ]
  },
  {
   "cell_type": "code",
   "execution_count": 12,
   "id": "f7db4bb5-9f69-4114-89e3-550b9795860e",
   "metadata": {},
   "outputs": [],
   "source": [
    "stylish_settee_price=180.50\n",
    "luxurious_lamp_description='Luxurious Lamp. Glass and iron. 36 inches tall. Brown with cream shade.'"
   ]
  },
  {
   "cell_type": "code",
   "execution_count": 45,
   "id": "94925041-d89a-4045-8701-c78cc3556348",
   "metadata": {},
   "outputs": [],
   "source": [
    "luxurious_lamp_price=52.15\n",
    "sales_tax=0.088\n",
    "customer_one_total=0"
   ]
  },
  {
   "cell_type": "code",
   "execution_count": 16,
   "id": "5f83a0bf-ad3a-41f1-af45-aa8171dca065",
   "metadata": {},
   "outputs": [
    {
     "name": "stdout",
     "output_type": "stream",
     "text": [
      "Customer One Items:Lovely Loveseat. Tufted polyester blend on wood. 32 inches high x 40 inches wide x 30 inches deep. Red or white.Luxurious Lamp. Glass and iron. 36 inches tall. Brown with cream shade.\n"
     ]
    }
   ],
   "source": [
    "customer_one_itemization='Customer One Items:'+lovely_loveseat_description+luxurious_lamp_description\n",
    "print(customer_one_itemization)"
   ]
  },
  {
   "cell_type": "code",
   "execution_count": 38,
   "id": "ba1b17ad-943f-4c9e-9a6a-1eda0f506854",
   "metadata": {},
   "outputs": [
    {
     "name": "stdout",
     "output_type": "stream",
     "text": [
      "Customer One Items:Lovely Loveseat. Tufted polyester blend on wood. 32 inches high x 40 inches wide x 30 inches deep. Red or white.Luxurious Lamp. Glass and iron. 36 inches tall. Brown with cream shade.\n"
     ]
    }
   ],
   "source": [
    "print(customer_one_itemization)"
   ]
  },
  {
   "cell_type": "code",
   "execution_count": 62,
   "id": "6d9af89a-5b4c-438a-b9f2-95c27b7f2231",
   "metadata": {},
   "outputs": [],
   "source": [
    "customer_one_tax=lovely_loveseat_price+luxurious_lamp_price\n",
    "customer_one_total=customer_one_tax*sales_tax\n",
    "sum=customer_one_tax+customer_one_total"
   ]
  },
  {
   "cell_type": "code",
   "execution_count": 63,
   "id": "183658f7-bb77-410f-9599-3d353f8c7a21",
   "metadata": {},
   "outputs": [
    {
     "name": "stdout",
     "output_type": "stream",
     "text": [
      "333.09119999999996\n"
     ]
    }
   ],
   "source": [
    "print(sum)"
   ]
  },
  {
   "cell_type": "code",
   "execution_count": null,
   "id": "fc1032ca-5361-4005-8053-0919542f9ffb",
   "metadata": {},
   "outputs": [],
   "source": []
  },
  {
   "cell_type": "code",
   "execution_count": null,
   "id": "031508e8-4ce0-4427-8e05-abceda897a13",
   "metadata": {},
   "outputs": [],
   "source": []
  }
 ],
 "metadata": {
  "kernelspec": {
   "display_name": "Python 3 (ipykernel)",
   "language": "python",
   "name": "python3"
  },
  "language_info": {
   "codemirror_mode": {
    "name": "ipython",
    "version": 3
   },
   "file_extension": ".py",
   "mimetype": "text/x-python",
   "name": "python",
   "nbconvert_exporter": "python",
   "pygments_lexer": "ipython3",
   "version": "3.9.12"
  }
 },
 "nbformat": 4,
 "nbformat_minor": 5
}
