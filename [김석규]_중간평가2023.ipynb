{
 "cells": [
  {
   "cell_type": "markdown",
   "metadata": {
    "id": "gdxO6-g0otvG"
   },
   "source": [
    "##**BD분석 방법론_2023**\n",
    "                                                  담당교수: 염동호\n",
    "                                                  \n",
    "* 제출기한: 2023년 4월 28일(23시59분)\n",
    "* 이름: 김석규                                     \n",
    "* 학과: 정보통신학부"
   ]
  },
  {
   "cell_type": "markdown",
   "metadata": {
    "id": "7x5ka1f86Rzt"
   },
   "source": [
    "### **미션_1: 대여 자전거 데이터 전처리**\n",
    "* 데이터: bicycle 대여대수와 기상 데이터셋.\n",
    "* 조건: **데이터 분석이 불필요한 데이터 삭제는 3개 이내로 한정 할 것**\n",
    "\n",
    "### **미션_2 : 타이타닉 데이터 전처리**\n",
    "* 데이터: 타이타닉 생존자 데이터셋\n",
    "* 조건: **데이터 분석이 불필요한 데이터 삭제는 3개 이내로 한정 할 것**"
   ]
  },
  {
   "cell_type": "markdown",
   "metadata": {
    "id": "U5N5VXZ7dmdP"
   },
   "source": [
    "##**-------------------------------**"
   ]
  },
  {
   "cell_type": "markdown",
   "metadata": {
    "id": "0Y0zNOC7dXYo"
   },
   "source": [
    "# **1. 미션_1**"
   ]
  },
  {
   "cell_type": "markdown",
   "metadata": {
    "id": "hBWw2oln6bw6"
   },
   "source": [
    "## **1.1 라이브러리 및 데이터**"
   ]
  },
  {
   "cell_type": "markdown",
   "metadata": {
    "id": "63gwGV75hweo"
   },
   "source": [
    "### 1.1.1 Library & Data\n",
    "* 데이터분석에 필요한 라이브러리를 가져온다\n",
    "* 분석할 데이터를 불러온다."
   ]
  },
  {
   "cell_type": "code",
   "execution_count": 1,
   "metadata": {
    "id": "RfPG0TQj0AnQ"
   },
   "outputs": [],
   "source": [
    "import numpy as np\n",
    "import pandas as pd\n",
    "\n",
    "import matplotlib as mpl                           # 기본적인 데이터 시각화 라이브러리(matplotlib) 설치\n",
    "import matplotlib.pyplot as plt\n",
    "import seaborn as sns"
   ]
  },
  {
   "cell_type": "code",
   "execution_count": 2,
   "metadata": {
    "id": "sl0CgCym0Spq"
   },
   "outputs": [],
   "source": [
    "import warnings\n",
    "warnings.filterwarnings(\"ignore\")"
   ]
  },
  {
   "cell_type": "markdown",
   "metadata": {
    "id": "if0MpuX7cD-D"
   },
   "source": [
    "* 데이터로드_1"
   ]
  },
  {
   "cell_type": "code",
   "execution_count": 4,
   "metadata": {
    "id": "a-winjaRKJ-7"
   },
   "outputs": [],
   "source": [
    "# 엑셀파일의 경우 pd.read_excel('/..........xlsx')\n",
    "data = pd.read_csv('C:/Users/user/Downloads/bicycle_1.csv')"
   ]
  },
  {
   "cell_type": "markdown",
   "metadata": {
    "id": "L5NVlO6WxGrC"
   },
   "source": [
    "###1.1.2 **데이터 확인**"
   ]
  },
  {
   "cell_type": "code",
   "execution_count": null,
   "metadata": {
    "id": "BibYAvpBlhan"
   },
   "outputs": [
    {
     "data": {
      "text/html": [
       "<div>\n",
       "<style scoped>\n",
       "    .dataframe tbody tr th:only-of-type {\n",
       "        vertical-align: middle;\n",
       "    }\n",
       "\n",
       "    .dataframe tbody tr th {\n",
       "        vertical-align: top;\n",
       "    }\n",
       "\n",
       "    .dataframe thead th {\n",
       "        text-align: right;\n",
       "    }\n",
       "</style>\n",
       "<table border=\"1\" class=\"dataframe\">\n",
       "  <thead>\n",
       "    <tr style=\"text-align: right;\">\n",
       "      <th></th>\n",
       "      <th>id</th>\n",
       "      <th>hour</th>\n",
       "      <th>temperature</th>\n",
       "      <th>precipitation</th>\n",
       "      <th>windspeed</th>\n",
       "      <th>humidity</th>\n",
       "      <th>visibility</th>\n",
       "      <th>ozone</th>\n",
       "      <th>pm10</th>\n",
       "      <th>pm2.5</th>\n",
       "      <th>count</th>\n",
       "    </tr>\n",
       "  </thead>\n",
       "  <tbody>\n",
       "    <tr>\n",
       "      <th>0</th>\n",
       "      <td>1</td>\n",
       "      <td>20</td>\n",
       "      <td>16.3</td>\n",
       "      <td>1</td>\n",
       "      <td>1.5</td>\n",
       "      <td>89.0</td>\n",
       "      <td>576.0</td>\n",
       "      <td>0.027</td>\n",
       "      <td>76.0</td>\n",
       "      <td>33.0</td>\n",
       "      <td>49</td>\n",
       "    </tr>\n",
       "    <tr>\n",
       "      <th>1</th>\n",
       "      <td>2</td>\n",
       "      <td>13</td>\n",
       "      <td>20.1</td>\n",
       "      <td>0</td>\n",
       "      <td>1.4</td>\n",
       "      <td>48.0</td>\n",
       "      <td>916.0</td>\n",
       "      <td>0.042</td>\n",
       "      <td>73.0</td>\n",
       "      <td>40.0</td>\n",
       "      <td>159</td>\n",
       "    </tr>\n",
       "  </tbody>\n",
       "</table>\n",
       "</div>"
      ],
      "text/plain": [
       "   id  hour  temperature  precipitation  windspeed  humidity  visibility  \\\n",
       "0   1    20         16.3              1        1.5      89.0       576.0   \n",
       "1   2    13         20.1              0        1.4      48.0       916.0   \n",
       "\n",
       "   ozone  pm10  pm2.5  count  \n",
       "0  0.027  76.0   33.0     49  \n",
       "1  0.042  73.0   40.0    159  "
      ]
     },
     "execution_count": 6,
     "metadata": {},
     "output_type": "execute_result"
    }
   ],
   "source": [
    "data.head(2) "
   ]
  },
  {
   "cell_type": "code",
   "execution_count": 9,
   "metadata": {},
   "outputs": [
    {
     "data": {
      "text/html": [
       "<div>\n",
       "<style scoped>\n",
       "    .dataframe tbody tr th:only-of-type {\n",
       "        vertical-align: middle;\n",
       "    }\n",
       "\n",
       "    .dataframe tbody tr th {\n",
       "        vertical-align: top;\n",
       "    }\n",
       "\n",
       "    .dataframe thead th {\n",
       "        text-align: right;\n",
       "    }\n",
       "</style>\n",
       "<table border=\"1\" class=\"dataframe\">\n",
       "  <thead>\n",
       "    <tr style=\"text-align: right;\">\n",
       "      <th></th>\n",
       "      <th>id</th>\n",
       "      <th>hour</th>\n",
       "      <th>temperature</th>\n",
       "      <th>precipitation</th>\n",
       "      <th>windspeed</th>\n",
       "      <th>humidity</th>\n",
       "      <th>visibility</th>\n",
       "      <th>ozone</th>\n",
       "      <th>pm10</th>\n",
       "      <th>pm2.5</th>\n",
       "      <th>count</th>\n",
       "    </tr>\n",
       "  </thead>\n",
       "  <tbody>\n",
       "    <tr>\n",
       "      <th>count</th>\n",
       "      <td>2000.00</td>\n",
       "      <td>2000.00</td>\n",
       "      <td>1985.00</td>\n",
       "      <td>2000.00</td>\n",
       "      <td>1984.00</td>\n",
       "      <td>1991.00</td>\n",
       "      <td>1987.00</td>\n",
       "      <td>1896.00</td>\n",
       "      <td>1890.00</td>\n",
       "      <td>1866.00</td>\n",
       "      <td>2000.00</td>\n",
       "    </tr>\n",
       "    <tr>\n",
       "      <th>mean</th>\n",
       "      <td>1000.50</td>\n",
       "      <td>11.55</td>\n",
       "      <td>18.51</td>\n",
       "      <td>0.04</td>\n",
       "      <td>2.47</td>\n",
       "      <td>53.37</td>\n",
       "      <td>1394.51</td>\n",
       "      <td>0.04</td>\n",
       "      <td>57.88</td>\n",
       "      <td>30.53</td>\n",
       "      <td>108.22</td>\n",
       "    </tr>\n",
       "    <tr>\n",
       "      <th>std</th>\n",
       "      <td>577.49</td>\n",
       "      <td>6.94</td>\n",
       "      <td>5.73</td>\n",
       "      <td>0.20</td>\n",
       "      <td>1.37</td>\n",
       "      <td>20.37</td>\n",
       "      <td>591.50</td>\n",
       "      <td>0.02</td>\n",
       "      <td>31.91</td>\n",
       "      <td>14.63</td>\n",
       "      <td>83.78</td>\n",
       "    </tr>\n",
       "    <tr>\n",
       "      <th>min</th>\n",
       "      <td>1.00</td>\n",
       "      <td>0.00</td>\n",
       "      <td>3.10</td>\n",
       "      <td>0.00</td>\n",
       "      <td>0.00</td>\n",
       "      <td>7.00</td>\n",
       "      <td>78.00</td>\n",
       "      <td>0.00</td>\n",
       "      <td>12.00</td>\n",
       "      <td>9.00</td>\n",
       "      <td>1.00</td>\n",
       "    </tr>\n",
       "    <tr>\n",
       "      <th>25%</th>\n",
       "      <td>500.75</td>\n",
       "      <td>6.00</td>\n",
       "      <td>14.20</td>\n",
       "      <td>0.00</td>\n",
       "      <td>1.40</td>\n",
       "      <td>37.00</td>\n",
       "      <td>857.00</td>\n",
       "      <td>0.02</td>\n",
       "      <td>36.00</td>\n",
       "      <td>20.00</td>\n",
       "      <td>37.00</td>\n",
       "    </tr>\n",
       "    <tr>\n",
       "      <th>50%</th>\n",
       "      <td>1000.50</td>\n",
       "      <td>12.00</td>\n",
       "      <td>18.60</td>\n",
       "      <td>0.00</td>\n",
       "      <td>2.30</td>\n",
       "      <td>52.00</td>\n",
       "      <td>1565.00</td>\n",
       "      <td>0.04</td>\n",
       "      <td>52.00</td>\n",
       "      <td>26.00</td>\n",
       "      <td>95.50</td>\n",
       "    </tr>\n",
       "    <tr>\n",
       "      <th>75%</th>\n",
       "      <td>1500.25</td>\n",
       "      <td>18.00</td>\n",
       "      <td>22.60</td>\n",
       "      <td>0.00</td>\n",
       "      <td>3.40</td>\n",
       "      <td>70.00</td>\n",
       "      <td>1996.00</td>\n",
       "      <td>0.05</td>\n",
       "      <td>70.00</td>\n",
       "      <td>37.00</td>\n",
       "      <td>149.00</td>\n",
       "    </tr>\n",
       "    <tr>\n",
       "      <th>max</th>\n",
       "      <td>2000.00</td>\n",
       "      <td>23.00</td>\n",
       "      <td>33.80</td>\n",
       "      <td>1.00</td>\n",
       "      <td>12.00</td>\n",
       "      <td>100.00</td>\n",
       "      <td>2000.00</td>\n",
       "      <td>0.12</td>\n",
       "      <td>269.00</td>\n",
       "      <td>90.00</td>\n",
       "      <td>431.00</td>\n",
       "    </tr>\n",
       "  </tbody>\n",
       "</table>\n",
       "</div>"
      ],
      "text/plain": [
       "            id     hour  temperature  precipitation  windspeed  humidity  \\\n",
       "count  2000.00  2000.00      1985.00        2000.00    1984.00   1991.00   \n",
       "mean   1000.50    11.55        18.51           0.04       2.47     53.37   \n",
       "std     577.49     6.94         5.73           0.20       1.37     20.37   \n",
       "min       1.00     0.00         3.10           0.00       0.00      7.00   \n",
       "25%     500.75     6.00        14.20           0.00       1.40     37.00   \n",
       "50%    1000.50    12.00        18.60           0.00       2.30     52.00   \n",
       "75%    1500.25    18.00        22.60           0.00       3.40     70.00   \n",
       "max    2000.00    23.00        33.80           1.00      12.00    100.00   \n",
       "\n",
       "       visibility    ozone     pm10    pm2.5    count  \n",
       "count     1987.00  1896.00  1890.00  1866.00  2000.00  \n",
       "mean      1394.51     0.04    57.88    30.53   108.22  \n",
       "std        591.50     0.02    31.91    14.63    83.78  \n",
       "min         78.00     0.00    12.00     9.00     1.00  \n",
       "25%        857.00     0.02    36.00    20.00    37.00  \n",
       "50%       1565.00     0.04    52.00    26.00    95.50  \n",
       "75%       1996.00     0.05    70.00    37.00   149.00  \n",
       "max       2000.00     0.12   269.00    90.00   431.00  "
      ]
     },
     "execution_count": 9,
     "metadata": {},
     "output_type": "execute_result"
    }
   ],
   "source": [
    "data.describe().round(2)"
   ]
  },
  {
   "cell_type": "markdown",
   "metadata": {
    "id": "FAuNEXIW6sbb"
   },
   "source": [
    "**Description**\n",
    "* id : 날짜와 시간별 id\n",
    "* hour : 시간\n",
    "* temperature : 1시간 전 기온pm10\n",
    "* precipitation : 1시간 전 비 정보, 비가 오지 않았으면 0, 비가 오면 1\n",
    "* windspeed : 1시간 전 평균풍속\n",
    "* humidity : 1시간 전 습도\n",
    "* visibility : 1시간 전 시계\n",
    "* ozone : 1시간 전 오존상태\n",
    "* pm10 : 1시간 전 미세먼지(머리카락 1/5~1/7 크기)\n",
    "* pm2.5 : 1시간 전 미세먼지(머리카락 1/20~ 1/30 크기)\n",
    "* count : 1시간 후 자전거 대여 대수"
   ]
  },
  {
   "cell_type": "markdown",
   "metadata": {
    "id": "4GJJ1-pK7pYu",
    "jp-MarkdownHeadingCollapsed": true,
    "tags": []
   },
   "source": [
    "**1.2 데이터 전처리**"
   ]
  },
  {
   "cell_type": "code",
   "execution_count": 7,
   "metadata": {},
   "outputs": [
    {
     "data": {
      "text/plain": [
       "(2000, 11)"
      ]
     },
     "execution_count": 7,
     "metadata": {},
     "output_type": "execute_result"
    }
   ],
   "source": [
    "data.shape"
   ]
  },
  {
   "cell_type": "code",
   "execution_count": 8,
   "metadata": {},
   "outputs": [
    {
     "name": "stdout",
     "output_type": "stream",
     "text": [
      "<class 'pandas.core.frame.DataFrame'>\n",
      "RangeIndex: 2000 entries, 0 to 1999\n",
      "Data columns (total 11 columns):\n",
      " #   Column         Non-Null Count  Dtype  \n",
      "---  ------         --------------  -----  \n",
      " 0   id             2000 non-null   int64  \n",
      " 1   hour           2000 non-null   int64  \n",
      " 2   temperature    1985 non-null   float64\n",
      " 3   precipitation  2000 non-null   int64  \n",
      " 4   windspeed      1984 non-null   float64\n",
      " 5   humidity       1991 non-null   float64\n",
      " 6   visibility     1987 non-null   float64\n",
      " 7   ozone          1896 non-null   float64\n",
      " 8   pm10           1890 non-null   float64\n",
      " 9   pm2.5          1866 non-null   float64\n",
      " 10  count          2000 non-null   int64  \n",
      "dtypes: float64(7), int64(4)\n",
      "memory usage: 172.0 KB\n"
     ]
    }
   ],
   "source": [
    "data.info()"
   ]
  },
  {
   "cell_type": "code",
   "execution_count": 13,
   "metadata": {},
   "outputs": [
    {
     "data": {
      "text/plain": [
       "52.0"
      ]
     },
     "execution_count": 13,
     "metadata": {},
     "output_type": "execute_result"
    }
   ],
   "source": [
    "data['pm10'].median()"
   ]
  },
  {
   "cell_type": "code",
   "execution_count": 14,
   "metadata": {},
   "outputs": [
    {
     "data": {
      "text/html": [
       "<div>\n",
       "<style scoped>\n",
       "    .dataframe tbody tr th:only-of-type {\n",
       "        vertical-align: middle;\n",
       "    }\n",
       "\n",
       "    .dataframe tbody tr th {\n",
       "        vertical-align: top;\n",
       "    }\n",
       "\n",
       "    .dataframe thead th {\n",
       "        text-align: right;\n",
       "    }\n",
       "</style>\n",
       "<table border=\"1\" class=\"dataframe\">\n",
       "  <thead>\n",
       "    <tr style=\"text-align: right;\">\n",
       "      <th></th>\n",
       "      <th>id</th>\n",
       "      <th>hour</th>\n",
       "      <th>temperature</th>\n",
       "      <th>precipitation</th>\n",
       "      <th>windspeed</th>\n",
       "      <th>humidity</th>\n",
       "      <th>visibility</th>\n",
       "      <th>ozone</th>\n",
       "      <th>pm2.5</th>\n",
       "      <th>count</th>\n",
       "    </tr>\n",
       "    <tr>\n",
       "      <th>pm10</th>\n",
       "      <th></th>\n",
       "      <th></th>\n",
       "      <th></th>\n",
       "      <th></th>\n",
       "      <th></th>\n",
       "      <th></th>\n",
       "      <th></th>\n",
       "      <th></th>\n",
       "      <th></th>\n",
       "      <th></th>\n",
       "    </tr>\n",
       "  </thead>\n",
       "  <tbody>\n",
       "    <tr>\n",
       "      <th>12.0</th>\n",
       "      <td>894.00</td>\n",
       "      <td>7.50</td>\n",
       "      <td>14.85</td>\n",
       "      <td>0.0</td>\n",
       "      <td>1.15</td>\n",
       "      <td>54.00</td>\n",
       "      <td>1419.00</td>\n",
       "      <td>0.03</td>\n",
       "      <td>13.0</td>\n",
       "      <td>57.50</td>\n",
       "    </tr>\n",
       "    <tr>\n",
       "      <th>13.0</th>\n",
       "      <td>568.00</td>\n",
       "      <td>5.00</td>\n",
       "      <td>14.65</td>\n",
       "      <td>0.0</td>\n",
       "      <td>3.35</td>\n",
       "      <td>44.50</td>\n",
       "      <td>1535.00</td>\n",
       "      <td>0.04</td>\n",
       "      <td>9.0</td>\n",
       "      <td>27.00</td>\n",
       "    </tr>\n",
       "    <tr>\n",
       "      <th>14.0</th>\n",
       "      <td>11.00</td>\n",
       "      <td>4.00</td>\n",
       "      <td>5.70</td>\n",
       "      <td>0.0</td>\n",
       "      <td>0.60</td>\n",
       "      <td>77.00</td>\n",
       "      <td>1960.00</td>\n",
       "      <td>0.03</td>\n",
       "      <td>18.0</td>\n",
       "      <td>6.00</td>\n",
       "    </tr>\n",
       "    <tr>\n",
       "      <th>16.0</th>\n",
       "      <td>626.00</td>\n",
       "      <td>9.00</td>\n",
       "      <td>6.60</td>\n",
       "      <td>0.0</td>\n",
       "      <td>1.70</td>\n",
       "      <td>71.00</td>\n",
       "      <td>1871.00</td>\n",
       "      <td>0.02</td>\n",
       "      <td>16.0</td>\n",
       "      <td>52.00</td>\n",
       "    </tr>\n",
       "    <tr>\n",
       "      <th>17.0</th>\n",
       "      <td>678.83</td>\n",
       "      <td>8.83</td>\n",
       "      <td>14.18</td>\n",
       "      <td>0.0</td>\n",
       "      <td>1.88</td>\n",
       "      <td>51.67</td>\n",
       "      <td>1524.00</td>\n",
       "      <td>0.04</td>\n",
       "      <td>10.6</td>\n",
       "      <td>116.33</td>\n",
       "    </tr>\n",
       "    <tr>\n",
       "      <th>...</th>\n",
       "      <td>...</td>\n",
       "      <td>...</td>\n",
       "      <td>...</td>\n",
       "      <td>...</td>\n",
       "      <td>...</td>\n",
       "      <td>...</td>\n",
       "      <td>...</td>\n",
       "      <td>...</td>\n",
       "      <td>...</td>\n",
       "      <td>...</td>\n",
       "    </tr>\n",
       "    <tr>\n",
       "      <th>214.0</th>\n",
       "      <td>1802.00</td>\n",
       "      <td>4.33</td>\n",
       "      <td>22.10</td>\n",
       "      <td>0.0</td>\n",
       "      <td>1.73</td>\n",
       "      <td>68.00</td>\n",
       "      <td>969.33</td>\n",
       "      <td>0.03</td>\n",
       "      <td>21.0</td>\n",
       "      <td>137.67</td>\n",
       "    </tr>\n",
       "    <tr>\n",
       "      <th>220.0</th>\n",
       "      <td>1798.00</td>\n",
       "      <td>13.00</td>\n",
       "      <td>25.93</td>\n",
       "      <td>0.0</td>\n",
       "      <td>2.27</td>\n",
       "      <td>40.67</td>\n",
       "      <td>1806.33</td>\n",
       "      <td>0.07</td>\n",
       "      <td>51.0</td>\n",
       "      <td>208.00</td>\n",
       "    </tr>\n",
       "    <tr>\n",
       "      <th>223.0</th>\n",
       "      <td>618.00</td>\n",
       "      <td>4.00</td>\n",
       "      <td>12.30</td>\n",
       "      <td>0.0</td>\n",
       "      <td>2.80</td>\n",
       "      <td>22.00</td>\n",
       "      <td>1082.00</td>\n",
       "      <td>0.04</td>\n",
       "      <td>20.0</td>\n",
       "      <td>16.00</td>\n",
       "    </tr>\n",
       "    <tr>\n",
       "      <th>237.0</th>\n",
       "      <td>733.00</td>\n",
       "      <td>18.50</td>\n",
       "      <td>17.25</td>\n",
       "      <td>0.5</td>\n",
       "      <td>2.70</td>\n",
       "      <td>71.00</td>\n",
       "      <td>374.00</td>\n",
       "      <td>0.08</td>\n",
       "      <td>62.0</td>\n",
       "      <td>46.00</td>\n",
       "    </tr>\n",
       "    <tr>\n",
       "      <th>269.0</th>\n",
       "      <td>620.00</td>\n",
       "      <td>10.50</td>\n",
       "      <td>17.80</td>\n",
       "      <td>0.0</td>\n",
       "      <td>4.50</td>\n",
       "      <td>30.50</td>\n",
       "      <td>1151.50</td>\n",
       "      <td>0.04</td>\n",
       "      <td>21.0</td>\n",
       "      <td>58.50</td>\n",
       "    </tr>\n",
       "  </tbody>\n",
       "</table>\n",
       "<p>131 rows × 10 columns</p>\n",
       "</div>"
      ],
      "text/plain": [
       "            id   hour  temperature  precipitation  windspeed  humidity  \\\n",
       "pm10                                                                     \n",
       "12.0    894.00   7.50        14.85            0.0       1.15     54.00   \n",
       "13.0    568.00   5.00        14.65            0.0       3.35     44.50   \n",
       "14.0     11.00   4.00         5.70            0.0       0.60     77.00   \n",
       "16.0    626.00   9.00         6.60            0.0       1.70     71.00   \n",
       "17.0    678.83   8.83        14.18            0.0       1.88     51.67   \n",
       "...        ...    ...          ...            ...        ...       ...   \n",
       "214.0  1802.00   4.33        22.10            0.0       1.73     68.00   \n",
       "220.0  1798.00  13.00        25.93            0.0       2.27     40.67   \n",
       "223.0   618.00   4.00        12.30            0.0       2.80     22.00   \n",
       "237.0   733.00  18.50        17.25            0.5       2.70     71.00   \n",
       "269.0   620.00  10.50        17.80            0.0       4.50     30.50   \n",
       "\n",
       "       visibility  ozone  pm2.5   count  \n",
       "pm10                                     \n",
       "12.0      1419.00   0.03   13.0   57.50  \n",
       "13.0      1535.00   0.04    9.0   27.00  \n",
       "14.0      1960.00   0.03   18.0    6.00  \n",
       "16.0      1871.00   0.02   16.0   52.00  \n",
       "17.0      1524.00   0.04   10.6  116.33  \n",
       "...           ...    ...    ...     ...  \n",
       "214.0      969.33   0.03   21.0  137.67  \n",
       "220.0     1806.33   0.07   51.0  208.00  \n",
       "223.0     1082.00   0.04   20.0   16.00  \n",
       "237.0      374.00   0.08   62.0   46.00  \n",
       "269.0     1151.50   0.04   21.0   58.50  \n",
       "\n",
       "[131 rows x 10 columns]"
      ]
     },
     "execution_count": 14,
     "metadata": {},
     "output_type": "execute_result"
    }
   ],
   "source": [
    "data.groupby('pm10').mean().round(2)"
   ]
  },
  {
   "cell_type": "code",
   "execution_count": 15,
   "metadata": {},
   "outputs": [
    {
     "data": {
      "text/plain": [
       "pm10\n",
       "12.0      57.500000\n",
       "13.0      27.000000\n",
       "14.0       6.000000\n",
       "16.0      52.000000\n",
       "17.0     116.333333\n",
       "            ...    \n",
       "214.0    137.666667\n",
       "220.0    208.000000\n",
       "223.0     16.000000\n",
       "237.0     46.000000\n",
       "269.0     58.500000\n",
       "Name: count, Length: 131, dtype: float64"
      ]
     },
     "execution_count": 15,
     "metadata": {},
     "output_type": "execute_result"
    }
   ],
   "source": [
    "data.groupby('pm10').mean()['count']"
   ]
  },
  {
   "cell_type": "markdown",
   "metadata": {
    "id": "-QBz8eHdlZLg",
    "tags": []
   },
   "source": [
    "## **1.3 저장**"
   ]
  },
  {
   "cell_type": "markdown",
   "metadata": {
    "id": "1NXiETTGvERz",
    "tags": []
   },
   "source": [
    "## **1.4 결과 정리 및 인사이트**"
   ]
  },
  {
   "cell_type": "code",
   "execution_count": 16,
   "metadata": {},
   "outputs": [
    {
     "data": {
      "text/plain": [
       "<AxesSubplot:xlabel='pm10'>"
      ]
     },
     "execution_count": 16,
     "metadata": {},
     "output_type": "execute_result"
    },
    {
     "data": {
      "image/png": "[encoded data removed]",
      "text/plain": [
       "<Figure size 432x288 with 1 Axes>"
      ]
     },
     "metadata": {
      "needs_background": "light"
     },
     "output_type": "display_data"
    }
   ],
   "source": [
    "data.groupby('pm10').mean()['count'].plot()"
   ]
  },
  {
   "cell_type": "code",
   "execution_count": 18,
   "metadata": {},
   "outputs": [],
   "source": [
    "sum = data.groupby('pm10')['windspeed', 'humidity', 'count'].sum().reset_index()   "
   ]
  },
  {
   "cell_type": "code",
   "execution_count": 19,
   "metadata": {},
   "outputs": [
    {
     "name": "stdout",
     "output_type": "stream",
     "text": [
      "      pm10  windspeed  humidity  count\n",
      "0     12.0        2.3     108.0    115\n",
      "1     13.0        6.7      89.0     54\n",
      "2     14.0        0.6      77.0      6\n",
      "3     16.0        1.7      71.0     52\n",
      "4     17.0       11.3     310.0    698\n",
      "..     ...        ...       ...    ...\n",
      "126  214.0        5.2     204.0    413\n",
      "127  220.0        6.8     122.0    624\n",
      "128  223.0        2.8      22.0     16\n",
      "129  237.0        5.4     142.0     92\n",
      "130  269.0        9.0      61.0    117\n",
      "\n",
      "[131 rows x 4 columns]\n"
     ]
    }
   ],
   "source": [
    "print(sum)"
   ]
  },
  {
   "cell_type": "code",
   "execution_count": 20,
   "metadata": {},
   "outputs": [
    {
     "data": {
      "text/plain": [
       "<AxesSubplot:xlabel='pm10'>"
      ]
     },
     "execution_count": 20,
     "metadata": {},
     "output_type": "execute_result"
    },
    {
     "data": {
      "image/png": "[encoded data removed]",
      "text/plain": [
       "<Figure size 432x288 with 1 Axes>"
      ]
     },
     "metadata": {
      "needs_background": "light"
     },
     "output_type": "display_data"
    }
   ],
   "source": [
    "sum.plot('pm10', 'count')"
   ]
  },
  {
   "cell_type": "markdown",
   "metadata": {
    "id": "WKm_fdKqfhkD"
   },
   "source": [
    "# **2. 미션_2**"
   ]
  },
  {
   "cell_type": "markdown",
   "metadata": {
    "id": "aOuJrgqFfhkE"
   },
   "source": [
    "## **2.1 라이브러리 및 데이터**"
   ]
  },
  {
   "cell_type": "markdown",
   "metadata": {
    "id": "llVEFaeUhq_T"
   },
   "source": [
    "### **2.1.1 Library & Data**"
   ]
  },
  {
   "cell_type": "code",
   "execution_count": 21,
   "metadata": {
    "id": "dZk0Oha_fhkF"
   },
   "outputs": [],
   "source": [
    "import numpy as np\n",
    "import pandas as pd\n",
    "\n",
    "import matplotlib as mpl                           # 기본적인 데이터 시각화 라이브러리(matplotlib) 설치\n",
    "import matplotlib.pyplot as plt\n",
    "import seaborn as sns"
   ]
  },
  {
   "cell_type": "code",
   "execution_count": 22,
   "metadata": {
    "id": "RGa0abrXfhkF"
   },
   "outputs": [],
   "source": [
    "import warnings\n",
    "warnings.filterwarnings(\"ignore\")"
   ]
  },
  {
   "cell_type": "markdown",
   "metadata": {
    "id": "QrDVrKVPfhkF"
   },
   "source": [
    "* 데이터로드_1"
   ]
  },
  {
   "cell_type": "code",
   "execution_count": 23,
   "metadata": {
    "id": "TO4C5ZRlfhkG"
   },
   "outputs": [],
   "source": [
    "# 엑셀파일의 경우 pd.read_excel('/..........xlsx')\n",
    "data = pd.read_csv('C:/Users/user/Downloads/titanic.csv')"
   ]
  },
  {
   "cell_type": "markdown",
   "metadata": {
    "id": "5ZovDEw5fvDe"
   },
   "source": [
    "### **2.1.2 데이터 확인**"
   ]
  },
  {
   "cell_type": "markdown",
   "metadata": {
    "id": "Ukcki232wmDh"
   },
   "source": [
    "**Description**\n",
    "* Passenger Id: 승객 아이디\n",
    "* Survived: 생존 여부(1: 생존, 0: 사망)\n",
    "* Pclass: 객실등급(1: 1등급, 2:2등급, 3:3등급), 사회경제적 지위를 대리함.\n",
    "* Name: 이름\n",
    "* Sex: 성별\n",
    "* Age: 나이\n",
    "* SibSp: 형제, 자매, 배우자 수(동승자)\n",
    "* Parch: 부모, 자식 수(동승자)\n",
    "* Ticket: 티켓번호\n",
    "* Fare: 티켓요금\n",
    "* Cabin: 객실번호\n",
    "* Embarked: 탑승한 항구(C = Cherbourg 셰르브루, Q = Queenstown 퀸즈타운, S = Southampton 샤우샘프턴)"
   ]
  },
  {
   "cell_type": "code",
   "execution_count": 24,
   "metadata": {},
   "outputs": [
    {
     "data": {
      "text/html": [
       "<div>\n",
       "<style scoped>\n",
       "    .dataframe tbody tr th:only-of-type {\n",
       "        vertical-align: middle;\n",
       "    }\n",
       "\n",
       "    .dataframe tbody tr th {\n",
       "        vertical-align: top;\n",
       "    }\n",
       "\n",
       "    .dataframe thead th {\n",
       "        text-align: right;\n",
       "    }\n",
       "</style>\n",
       "<table border=\"1\" class=\"dataframe\">\n",
       "  <thead>\n",
       "    <tr style=\"text-align: right;\">\n",
       "      <th></th>\n",
       "      <th>pclass</th>\n",
       "      <th>survived</th>\n",
       "      <th>name</th>\n",
       "      <th>sex</th>\n",
       "      <th>age</th>\n",
       "      <th>sibsp</th>\n",
       "      <th>parch</th>\n",
       "      <th>ticket</th>\n",
       "      <th>fare</th>\n",
       "      <th>cabin</th>\n",
       "      <th>embarked</th>\n",
       "      <th>body</th>\n",
       "      <th>home.dest</th>\n",
       "    </tr>\n",
       "  </thead>\n",
       "  <tbody>\n",
       "    <tr>\n",
       "      <th>0</th>\n",
       "      <td>2</td>\n",
       "      <td>1</td>\n",
       "      <td>Mellinger, Miss. Madeleine Violet</td>\n",
       "      <td>female</td>\n",
       "      <td>13.0</td>\n",
       "      <td>0</td>\n",
       "      <td>1</td>\n",
       "      <td>250644</td>\n",
       "      <td>19.5</td>\n",
       "      <td>NaN</td>\n",
       "      <td>S</td>\n",
       "      <td>NaN</td>\n",
       "      <td>England / Bennington, VT</td>\n",
       "    </tr>\n",
       "    <tr>\n",
       "      <th>1</th>\n",
       "      <td>2</td>\n",
       "      <td>1</td>\n",
       "      <td>Wells, Miss. Joan</td>\n",
       "      <td>female</td>\n",
       "      <td>4.0</td>\n",
       "      <td>1</td>\n",
       "      <td>1</td>\n",
       "      <td>29103</td>\n",
       "      <td>23.0</td>\n",
       "      <td>NaN</td>\n",
       "      <td>S</td>\n",
       "      <td>NaN</td>\n",
       "      <td>Cornwall / Akron, OH</td>\n",
       "    </tr>\n",
       "  </tbody>\n",
       "</table>\n",
       "</div>"
      ],
      "text/plain": [
       "   pclass  survived                               name     sex   age  sibsp  \\\n",
       "0       2         1  Mellinger, Miss. Madeleine Violet  female  13.0      0   \n",
       "1       2         1                  Wells, Miss. Joan  female   4.0      1   \n",
       "\n",
       "   parch  ticket  fare cabin embarked  body                 home.dest  \n",
       "0      1  250644  19.5   NaN        S   NaN  England / Bennington, VT  \n",
       "1      1   29103  23.0   NaN        S   NaN      Cornwall / Akron, OH  "
      ]
     },
     "execution_count": 24,
     "metadata": {},
     "output_type": "execute_result"
    }
   ],
   "source": [
    "data.head(2)"
   ]
  },
  {
   "cell_type": "markdown",
   "metadata": {
    "id": "krNajGrmf8Ex"
   },
   "source": [
    "## **2.2 데이터 전처리**"
   ]
  },
  {
   "cell_type": "code",
   "execution_count": 26,
   "metadata": {
    "id": "RMsngYBRf-qs"
   },
   "outputs": [
    {
     "data": {
      "text/html": [
       "<div>\n",
       "<style scoped>\n",
       "    .dataframe tbody tr th:only-of-type {\n",
       "        vertical-align: middle;\n",
       "    }\n",
       "\n",
       "    .dataframe tbody tr th {\n",
       "        vertical-align: top;\n",
       "    }\n",
       "\n",
       "    .dataframe thead th {\n",
       "        text-align: right;\n",
       "    }\n",
       "</style>\n",
       "<table border=\"1\" class=\"dataframe\">\n",
       "  <thead>\n",
       "    <tr style=\"text-align: right;\">\n",
       "      <th></th>\n",
       "      <th>pclass</th>\n",
       "      <th>survived</th>\n",
       "      <th>age</th>\n",
       "      <th>sibsp</th>\n",
       "      <th>parch</th>\n",
       "      <th>fare</th>\n",
       "      <th>body</th>\n",
       "    </tr>\n",
       "  </thead>\n",
       "  <tbody>\n",
       "    <tr>\n",
       "      <th>count</th>\n",
       "      <td>1309.00</td>\n",
       "      <td>1309.00</td>\n",
       "      <td>1046.00</td>\n",
       "      <td>1309.00</td>\n",
       "      <td>1309.00</td>\n",
       "      <td>1309.00</td>\n",
       "      <td>121.00</td>\n",
       "    </tr>\n",
       "    <tr>\n",
       "      <th>mean</th>\n",
       "      <td>2.29</td>\n",
       "      <td>0.38</td>\n",
       "      <td>29.88</td>\n",
       "      <td>0.50</td>\n",
       "      <td>0.39</td>\n",
       "      <td>33.29</td>\n",
       "      <td>160.81</td>\n",
       "    </tr>\n",
       "    <tr>\n",
       "      <th>std</th>\n",
       "      <td>0.84</td>\n",
       "      <td>0.49</td>\n",
       "      <td>14.41</td>\n",
       "      <td>1.04</td>\n",
       "      <td>0.87</td>\n",
       "      <td>51.74</td>\n",
       "      <td>97.70</td>\n",
       "    </tr>\n",
       "    <tr>\n",
       "      <th>min</th>\n",
       "      <td>1.00</td>\n",
       "      <td>0.00</td>\n",
       "      <td>0.17</td>\n",
       "      <td>0.00</td>\n",
       "      <td>0.00</td>\n",
       "      <td>0.00</td>\n",
       "      <td>1.00</td>\n",
       "    </tr>\n",
       "    <tr>\n",
       "      <th>25%</th>\n",
       "      <td>2.00</td>\n",
       "      <td>0.00</td>\n",
       "      <td>21.00</td>\n",
       "      <td>0.00</td>\n",
       "      <td>0.00</td>\n",
       "      <td>7.90</td>\n",
       "      <td>72.00</td>\n",
       "    </tr>\n",
       "    <tr>\n",
       "      <th>50%</th>\n",
       "      <td>3.00</td>\n",
       "      <td>0.00</td>\n",
       "      <td>28.00</td>\n",
       "      <td>0.00</td>\n",
       "      <td>0.00</td>\n",
       "      <td>14.45</td>\n",
       "      <td>155.00</td>\n",
       "    </tr>\n",
       "    <tr>\n",
       "      <th>75%</th>\n",
       "      <td>3.00</td>\n",
       "      <td>1.00</td>\n",
       "      <td>39.00</td>\n",
       "      <td>1.00</td>\n",
       "      <td>0.00</td>\n",
       "      <td>31.28</td>\n",
       "      <td>256.00</td>\n",
       "    </tr>\n",
       "    <tr>\n",
       "      <th>max</th>\n",
       "      <td>3.00</td>\n",
       "      <td>1.00</td>\n",
       "      <td>80.00</td>\n",
       "      <td>8.00</td>\n",
       "      <td>9.00</td>\n",
       "      <td>512.33</td>\n",
       "      <td>328.00</td>\n",
       "    </tr>\n",
       "  </tbody>\n",
       "</table>\n",
       "</div>"
      ],
      "text/plain": [
       "        pclass  survived      age    sibsp    parch     fare    body\n",
       "count  1309.00   1309.00  1046.00  1309.00  1309.00  1309.00  121.00\n",
       "mean      2.29      0.38    29.88     0.50     0.39    33.29  160.81\n",
       "std       0.84      0.49    14.41     1.04     0.87    51.74   97.70\n",
       "min       1.00      0.00     0.17     0.00     0.00     0.00    1.00\n",
       "25%       2.00      0.00    21.00     0.00     0.00     7.90   72.00\n",
       "50%       3.00      0.00    28.00     0.00     0.00    14.45  155.00\n",
       "75%       3.00      1.00    39.00     1.00     0.00    31.28  256.00\n",
       "max       3.00      1.00    80.00     8.00     9.00   512.33  328.00"
      ]
     },
     "execution_count": 26,
     "metadata": {},
     "output_type": "execute_result"
    }
   ],
   "source": [
    "data.describe().round(2)"
   ]
  },
  {
   "cell_type": "code",
   "execution_count": 27,
   "metadata": {},
   "outputs": [
    {
     "name": "stdout",
     "output_type": "stream",
     "text": [
      "<class 'pandas.core.frame.DataFrame'>\n",
      "RangeIndex: 1309 entries, 0 to 1308\n",
      "Data columns (total 13 columns):\n",
      " #   Column     Non-Null Count  Dtype  \n",
      "---  ------     --------------  -----  \n",
      " 0   pclass     1309 non-null   int64  \n",
      " 1   survived   1309 non-null   int64  \n",
      " 2   name       1309 non-null   object \n",
      " 3   sex        1309 non-null   object \n",
      " 4   age        1046 non-null   float64\n",
      " 5   sibsp      1309 non-null   int64  \n",
      " 6   parch      1309 non-null   int64  \n",
      " 7   ticket     1309 non-null   object \n",
      " 8   fare       1309 non-null   float64\n",
      " 9   cabin      295 non-null    object \n",
      " 10  embarked   1307 non-null   object \n",
      " 11  body       121 non-null    float64\n",
      " 12  home.dest  745 non-null    object \n",
      "dtypes: float64(3), int64(4), object(6)\n",
      "memory usage: 133.1+ KB\n"
     ]
    }
   ],
   "source": [
    "data.info()"
   ]
  },
  {
   "cell_type": "code",
   "execution_count": 31,
   "metadata": {},
   "outputs": [],
   "source": [
    "train = data.drop(['name', 'ticket', 'cabin'], axis = 1)"
   ]
  },
  {
   "cell_type": "code",
   "execution_count": 32,
   "metadata": {},
   "outputs": [
    {
     "data": {
      "text/html": [
       "<div>\n",
       "<style scoped>\n",
       "    .dataframe tbody tr th:only-of-type {\n",
       "        vertical-align: middle;\n",
       "    }\n",
       "\n",
       "    .dataframe tbody tr th {\n",
       "        vertical-align: top;\n",
       "    }\n",
       "\n",
       "    .dataframe thead th {\n",
       "        text-align: right;\n",
       "    }\n",
       "</style>\n",
       "<table border=\"1\" class=\"dataframe\">\n",
       "  <thead>\n",
       "    <tr style=\"text-align: right;\">\n",
       "      <th></th>\n",
       "      <th>pclass</th>\n",
       "      <th>survived</th>\n",
       "      <th>sex</th>\n",
       "      <th>age</th>\n",
       "      <th>sibsp</th>\n",
       "      <th>parch</th>\n",
       "      <th>fare</th>\n",
       "      <th>embarked</th>\n",
       "      <th>body</th>\n",
       "      <th>home.dest</th>\n",
       "    </tr>\n",
       "  </thead>\n",
       "  <tbody>\n",
       "    <tr>\n",
       "      <th>0</th>\n",
       "      <td>2</td>\n",
       "      <td>1</td>\n",
       "      <td>female</td>\n",
       "      <td>13.0</td>\n",
       "      <td>0</td>\n",
       "      <td>1</td>\n",
       "      <td>19.5</td>\n",
       "      <td>S</td>\n",
       "      <td>NaN</td>\n",
       "      <td>England / Bennington, VT</td>\n",
       "    </tr>\n",
       "    <tr>\n",
       "      <th>1</th>\n",
       "      <td>2</td>\n",
       "      <td>1</td>\n",
       "      <td>female</td>\n",
       "      <td>4.0</td>\n",
       "      <td>1</td>\n",
       "      <td>1</td>\n",
       "      <td>23.0</td>\n",
       "      <td>S</td>\n",
       "      <td>NaN</td>\n",
       "      <td>Cornwall / Akron, OH</td>\n",
       "    </tr>\n",
       "  </tbody>\n",
       "</table>\n",
       "</div>"
      ],
      "text/plain": [
       "   pclass  survived     sex   age  sibsp  parch  fare embarked  body  \\\n",
       "0       2         1  female  13.0      0      1  19.5        S   NaN   \n",
       "1       2         1  female   4.0      1      1  23.0        S   NaN   \n",
       "\n",
       "                  home.dest  \n",
       "0  England / Bennington, VT  \n",
       "1      Cornwall / Akron, OH  "
      ]
     },
     "execution_count": 32,
     "metadata": {},
     "output_type": "execute_result"
    }
   ],
   "source": [
    "train.head(2)"
   ]
  },
  {
   "cell_type": "code",
   "execution_count": 33,
   "metadata": {},
   "outputs": [
    {
     "name": "stdout",
     "output_type": "stream",
     "text": [
      "<class 'pandas.core.frame.DataFrame'>\n",
      "RangeIndex: 1309 entries, 0 to 1308\n",
      "Data columns (total 10 columns):\n",
      " #   Column     Non-Null Count  Dtype  \n",
      "---  ------     --------------  -----  \n",
      " 0   pclass     1309 non-null   int64  \n",
      " 1   survived   1309 non-null   int64  \n",
      " 2   sex        1309 non-null   object \n",
      " 3   age        1046 non-null   float64\n",
      " 4   sibsp      1309 non-null   int64  \n",
      " 5   parch      1309 non-null   int64  \n",
      " 6   fare       1309 non-null   float64\n",
      " 7   embarked   1307 non-null   object \n",
      " 8   body       121 non-null    float64\n",
      " 9   home.dest  745 non-null    object \n",
      "dtypes: float64(3), int64(4), object(3)\n",
      "memory usage: 102.4+ KB\n"
     ]
    }
   ],
   "source": [
    "train.info()"
   ]
  },
  {
   "cell_type": "code",
   "execution_count": 44,
   "metadata": {},
   "outputs": [
    {
     "name": "stdout",
     "output_type": "stream",
     "text": [
      "Wall time: 4.97 ms\n"
     ]
    },
    {
     "data": {
      "text/html": [
       "<div>\n",
       "<style scoped>\n",
       "    .dataframe tbody tr th:only-of-type {\n",
       "        vertical-align: middle;\n",
       "    }\n",
       "\n",
       "    .dataframe tbody tr th {\n",
       "        vertical-align: top;\n",
       "    }\n",
       "\n",
       "    .dataframe thead th {\n",
       "        text-align: right;\n",
       "    }\n",
       "</style>\n",
       "<table border=\"1\" class=\"dataframe\">\n",
       "  <thead>\n",
       "    <tr style=\"text-align: right;\">\n",
       "      <th></th>\n",
       "      <th>pclass</th>\n",
       "      <th>survived</th>\n",
       "      <th>age</th>\n",
       "      <th>sibsp</th>\n",
       "      <th>parch</th>\n",
       "      <th>fare</th>\n",
       "      <th>body</th>\n",
       "    </tr>\n",
       "    <tr>\n",
       "      <th>sex</th>\n",
       "      <th></th>\n",
       "      <th></th>\n",
       "      <th></th>\n",
       "      <th></th>\n",
       "      <th></th>\n",
       "      <th></th>\n",
       "      <th></th>\n",
       "    </tr>\n",
       "  </thead>\n",
       "  <tbody>\n",
       "    <tr>\n",
       "      <th>female</th>\n",
       "      <td>2.15</td>\n",
       "      <td>0.73</td>\n",
       "      <td>28.89</td>\n",
       "      <td>0.65</td>\n",
       "      <td>0.63</td>\n",
       "      <td>46.20</td>\n",
       "      <td>166.62</td>\n",
       "    </tr>\n",
       "    <tr>\n",
       "      <th>male</th>\n",
       "      <td>2.37</td>\n",
       "      <td>0.19</td>\n",
       "      <td>30.43</td>\n",
       "      <td>0.41</td>\n",
       "      <td>0.25</td>\n",
       "      <td>26.15</td>\n",
       "      <td>160.40</td>\n",
       "    </tr>\n",
       "  </tbody>\n",
       "</table>\n",
       "</div>"
      ],
      "text/plain": [
       "        pclass  survived    age  sibsp  parch   fare    body\n",
       "sex                                                         \n",
       "female    2.15      0.73  28.89   0.65   0.63  46.20  166.62\n",
       "male      2.37      0.19  30.43   0.41   0.25  26.15  160.40"
      ]
     },
     "execution_count": 44,
     "metadata": {},
     "output_type": "execute_result"
    }
   ],
   "source": [
    "%%time\n",
    "train.groupby('sex').mean().round(2)"
   ]
  },
  {
   "cell_type": "code",
   "execution_count": 45,
   "metadata": {},
   "outputs": [
    {
     "data": {
      "text/plain": [
       "<AxesSubplot:xlabel='sex'>"
      ]
     },
     "execution_count": 45,
     "metadata": {},
     "output_type": "execute_result"
    },
    {
     "data": {
      "image/png": "[encoded data removed]",
      "text/plain": [
       "<Figure size 432x288 with 1 Axes>"
      ]
     },
     "metadata": {
      "needs_background": "light"
     },
     "output_type": "display_data"
    }
   ],
   "source": [
    "train[['sex', 'survived']].groupby('sex').mean().plot(kind = \"bar\", rot = 75) "
   ]
  },
  {
   "cell_type": "markdown",
   "metadata": {
    "id": "BR1BBPYQlhpU"
   },
   "source": [
    "## **2.3 저장**"
   ]
  },
  {
   "cell_type": "code",
   "execution_count": 51,
   "metadata": {},
   "outputs": [
    {
     "name": "stdout",
     "output_type": "stream",
     "text": [
      "male      843\n",
      "female    466\n",
      "Name: sex, dtype: int64\n"
     ]
    },
    {
     "data": {
      "image/png": "[encoded data removed]",
      "text/plain": [
       "<Figure size 432x288 with 1 Axes>"
      ]
     },
     "metadata": {
      "needs_background": "light"
     },
     "output_type": "display_data"
    }
   ],
   "source": [
    "print(train['sex'].value_counts())\n",
    "difference= sns.countplot(x='sex', hue = 'survived',  data = train)"
   ]
  },
  {
   "cell_type": "markdown",
   "metadata": {
    "id": "zoWA0bmAf8Ey"
   },
   "source": [
    "## **2.3 결과 정리 및 인사이트**"
   ]
  },
  {
   "cell_type": "code",
   "execution_count": 50,
   "metadata": {
    "id": "6B2ZIt4wf_VN"
   },
   "outputs": [
    {
     "data": {
      "text/html": [
       "<style type=\"text/css\">\n",
       "#T_23211_row0_col0, #T_23211_row0_col2, #T_23211_row1_col1 {\n",
       "  background-color: #ffff66;\n",
       "  color: #000000;\n",
       "}\n",
       "#T_23211_row0_col1 {\n",
       "  background-color: #79bc66;\n",
       "  color: #000000;\n",
       "}\n",
       "#T_23211_row1_col0 {\n",
       "  background-color: #2f9766;\n",
       "  color: #f1f1f1;\n",
       "}\n",
       "#T_23211_row1_col2 {\n",
       "  background-color: #8dc666;\n",
       "  color: #000000;\n",
       "}\n",
       "#T_23211_row2_col0, #T_23211_row2_col1, #T_23211_row2_col2 {\n",
       "  background-color: #008066;\n",
       "  color: #f1f1f1;\n",
       "}\n",
       "</style>\n",
       "<table id=\"T_23211_\">\n",
       "  <thead>\n",
       "    <tr>\n",
       "      <th class=\"index_name level0\" >survived</th>\n",
       "      <th class=\"col_heading level0 col0\" >0</th>\n",
       "      <th class=\"col_heading level0 col1\" >1</th>\n",
       "      <th class=\"col_heading level0 col2\" >All</th>\n",
       "    </tr>\n",
       "    <tr>\n",
       "      <th class=\"index_name level0\" >sex</th>\n",
       "      <th class=\"blank col0\" >&nbsp;</th>\n",
       "      <th class=\"blank col1\" >&nbsp;</th>\n",
       "      <th class=\"blank col2\" >&nbsp;</th>\n",
       "    </tr>\n",
       "  </thead>\n",
       "  <tbody>\n",
       "    <tr>\n",
       "      <th id=\"T_23211_level0_row0\" class=\"row_heading level0 row0\" >female</th>\n",
       "      <td id=\"T_23211_row0_col0\" class=\"data row0 col0\" >127</td>\n",
       "      <td id=\"T_23211_row0_col1\" class=\"data row0 col1\" >339</td>\n",
       "      <td id=\"T_23211_row0_col2\" class=\"data row0 col2\" >466</td>\n",
       "    </tr>\n",
       "    <tr>\n",
       "      <th id=\"T_23211_level0_row1\" class=\"row_heading level0 row1\" >male</th>\n",
       "      <td id=\"T_23211_row1_col0\" class=\"data row1 col0\" >682</td>\n",
       "      <td id=\"T_23211_row1_col1\" class=\"data row1 col1\" >161</td>\n",
       "      <td id=\"T_23211_row1_col2\" class=\"data row1 col2\" >843</td>\n",
       "    </tr>\n",
       "    <tr>\n",
       "      <th id=\"T_23211_level0_row2\" class=\"row_heading level0 row2\" >All</th>\n",
       "      <td id=\"T_23211_row2_col0\" class=\"data row2 col0\" >809</td>\n",
       "      <td id=\"T_23211_row2_col1\" class=\"data row2 col1\" >500</td>\n",
       "      <td id=\"T_23211_row2_col2\" class=\"data row2 col2\" >1309</td>\n",
       "    </tr>\n",
       "  </tbody>\n",
       "</table>\n"
      ],
      "text/plain": [
       "<pandas.io.formats.style.Styler at 0x17038561910>"
      ]
     },
     "execution_count": 50,
     "metadata": {},
     "output_type": "execute_result"
    }
   ],
   "source": [
    "pd.crosstab(train.sex,train.survived,margins=True).style.background_gradient(cmap='summer_r')"
   ]
  },
  {
   "cell_type": "markdown",
   "metadata": {
    "id": "P-J8md9jylQ8"
   },
   "source": [
    "#**굿럭!!!**"
   ]
  }
 ],
 "metadata": {
  "colab": {
   "provenance": [],
   "toc_visible": true
  },
  "kernelspec": {
   "display_name": "Python 3 (ipykernel)",
   "language": "python",
   "name": "python3"
  },
  "language_info": {
   "codemirror_mode": {
    "name": "ipython",
    "version": 3
   },
   "file_extension": ".py",
   "mimetype": "text/x-python",
   "name": "python",
   "nbconvert_exporter": "python",
   "pygments_lexer": "ipython3",
   "version": "3.9.7"
  }
 },
 "nbformat": 4,
 "nbformat_minor": 4
}
